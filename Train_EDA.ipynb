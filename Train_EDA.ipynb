{
 "cells": [
  {
   "cell_type": "markdown",
   "metadata": {},
   "source": [
    "# EDA\n",
    "\n",
    "作者：艾宏峰<br>\n",
    "创建时间：2020年2月13日\n",
    "\n",
    "EDA内容如下：<br>\n",
    "1. 总数据量数和各类别数据量总览<br>\n",
    "2. 图像库图像数量频次图<br>\n",
    "3. 图像库图像标注概况<br>\n",
    "4. 图像库文本数据概况<br>\n",
    "5. 视频库视频标注概况<br>\n",
    "6. 视频库文本数据概况<br>\n",
    "7. 其它"
   ]
  },
  {
   "cell_type": "code",
   "execution_count": 9,
   "metadata": {},
   "outputs": [],
   "source": [
    "import json\n",
    "import glob\n",
    "import matplotlib.pyplot as plt\n",
    "import matplotlib \n",
    "import pandas as pd\n",
    "matplotlib.rcParams['font.sans-serif']=['SimHei'] # 用黑体显示中文 \n",
    "matplotlib.rcParams['axes.unicode_minus']=False\n",
    "# plt.rcParams['font.sans-serif']=['SimHei']\n",
    "import numpy as np"
   ]
  },
  {
   "cell_type": "code",
   "execution_count": 10,
   "metadata": {},
   "outputs": [],
   "source": [
    "# 文件路径\n",
    "dataset_paths = glob.glob('data/train_*')\n",
    "\n",
    "# 图像库中图片/标注/文本路径\n",
    "img_folder_paths = [] # 所有data/train_dataset_part<n>/images中所有文件夹\n",
    "img_ann_folder_paths = [] # 所有data/train_dataset_part<n>/image_annotatonl中所有文件夹\n",
    "img_txt_paths = [] # 所有data/train_dataset_part<n>/image_text中txt文件\n",
    "\n",
    "# 视频库中视频/标注/文本路径\n",
    "video_mp4_paths = [] # 所有data/train_dataset_part<n>/video中所有视频\n",
    "video_ann_paths = [] # 所有data/train_dataset_part<n>/video_annotation中所有json文件\n",
    "video_txt_paths = [] # 所有data/train_dataset_part<n>/video_text中txt文件\n",
    "\n",
    "for dataset_path in dataset_paths:\n",
    "#     if dataset_path.split('/')[-1].startswith('train'):\n",
    "        img_folder_paths.extend(glob.glob(dataset_path + '/image/*'))\n",
    "        img_ann_folder_paths.extend(glob.glob(dataset_path + '/image_annotation/*'))\n",
    "        img_txt_paths.extend(glob.glob(dataset_path + '/image_text/*.txt'))\n",
    "        \n",
    "        video_mp4_paths.extend(glob.glob(dataset_path + '/video/*.mp4'))\n",
    "        video_ann_paths.extend(glob.glob(dataset_path + '/video_annotation/*.json'))\n",
    "        video_txt_paths.extend(glob.glob(dataset_path + '/video_text/*.txt'))"
   ]
  },
  {
   "cell_type": "code",
   "execution_count": 11,
   "metadata": {},
   "outputs": [
    {
     "name": "stdout",
     "output_type": "stream",
     "text": [
      "30000 30000\n"
     ]
    }
   ],
   "source": [
    "print(len(img_folder_paths),len(video_mp4_paths))"
   ]
  },
  {
   "cell_type": "code",
   "execution_count": 12,
   "metadata": {},
   "outputs": [
    {
     "name": "stdout",
     "output_type": "stream",
     "text": [
      "{'img_name': '0.jpg', 'item_id': '062852', 'annotations': [{'display': 1, 'instance_id': 26285201, 'viewpoint': 0, 'label': '短袖连衣裙', 'box': [260, 168, 542, 786]}]}\n"
     ]
    }
   ],
   "source": [
    "img_ann_folder_path = img_ann_folder_paths[0]\n",
    "json_paths = glob.glob(img_ann_folder_path + '/*.json')\n",
    "json_path = json_paths[0]\n",
    "with open(json_path, 'r') as f:\n",
    "            img_ann = json.load(f)\n",
    "print(img_ann)"
   ]
  },
  {
   "cell_type": "markdown",
   "metadata": {},
   "source": [
    "### 1. 总数据量数和各类别数据量总览\n",
    "针对image和video文件夹下的文件个数进行统计。同时对于类别数量，针对image_annotaion和vedio_annotation文件夹内的json标注文件进行统计。"
   ]
  },
  {
   "cell_type": "code",
   "execution_count": 33,
   "metadata": {},
   "outputs": [
    {
     "name": "stdout",
     "output_type": "stream",
     "text": [
      "23\n"
     ]
    },
    {
     "data": {
      "image/png": "[encoded data removed]",
      "text/plain": [
       "<Figure size 1008x360 with 1 Axes>"
      ]
     },
     "metadata": {
      "needs_background": "light"
     },
     "output_type": "display_data"
    }
   ],
   "source": [
    "label_num_dict = {} # 类别数量 频次字典\n",
    "\n",
    "for img_ann_folder_path in img_ann_folder_paths:\n",
    "    json_paths = glob.glob(img_ann_folder_path + '/*.json')\n",
    "    for json_path in json_paths:\n",
    "        with open(json_path, 'r') as f:\n",
    "            img_ann = json.load(f)\n",
    "        \n",
    "        for ann in img_ann['annotations']:\n",
    "            label = ann['label']\n",
    "            \n",
    "            if label not in label_num_dict.keys():\n",
    "                label_num_dict[label] = 1\n",
    "            else:\n",
    "                label_num_dict[label] += 1  \n",
    "            \n",
    "fig = plt.figure(figsize=(14,5))\n",
    "label_num_dict['古装']+=label_num_dict['古风']\n",
    "label_num_dict.pop('古风')\n",
    "x1 = np.array(list(label_num_dict.keys()))\n",
    "y1 = np.array(list(label_num_dict.values()))\n",
    "\n",
    "index = sorted(range(len(y1)), key=lambda k: y1[k])\n",
    "x1 = x1[index]\n",
    "y1 = y1[index]\n",
    "print(len(y1))\n",
    "plt.bar(range(len(x1)), y1)\n",
    "for a, b in zip(list(range(len(x1))), y1):\n",
    "    plt.text(a, b + 0.05, '%.0f' % b, ha='center', va='bottom', fontsize=10)\n",
    "plt.xticks(list(range(len(x1))), x1, rotation=45)\n",
    "plt.title(\"图像库类别\")\n",
    "plt.ylabel(\"频次\")\n",
    "plt.show()"
   ]
  },
  {
   "cell_type": "code",
   "execution_count": 26,
   "metadata": {},
   "outputs": [],
   "source": [
    "image_x1 = x1\n",
    "aug_label = x1[:12]"
   ]
  },
  {
   "cell_type": "code",
   "execution_count": 31,
   "metadata": {},
   "outputs": [
    {
     "name": "stdout",
     "output_type": "stream",
     "text": [
      "{'长马甲': 0, '古装': 1, '短马甲': 2, '背心上衣': 3, '背带裤': 4, '连体衣': 5, '吊带上衣': 6, '中裤': 7, '短袖衬衫': 8, '无袖上衣': 9, '长袖衬衫': 10, '中等半身裙': 11, '长半身裙': 12, '长外套': 13, '短裙': 14, '无袖连衣裙': 15, '短裤': 16, '短外套': 17, '长袖连衣裙': 18, '长袖上衣': 19, '长裤': 20, '短袖连衣裙': 21, '短袖上衣': 22, '古风': 1}\n"
     ]
    }
   ],
   "source": [
    "label2num = {}\n",
    "for i,j in enumerate(image_x1[1:]):\n",
    "    label2num[j]=i\n",
    "label2num['古风']=1\n",
    "print(label2num)\n"
   ]
  },
  {
   "cell_type": "code",
   "execution_count": 27,
   "metadata": {},
   "outputs": [
    {
     "name": "stdout",
     "output_type": "stream",
     "text": [
      "['古风' '长马甲' '古装' '短马甲' '背心上衣' '背带裤' '连体衣' '吊带上衣' '中裤' '短袖衬衫' '无袖上衣' '长袖衬衫']\n"
     ]
    }
   ],
   "source": [
    "aug_label = ['古风' '长马甲' '古装' '短马甲' '背心上衣' '背带裤' '连体衣' '吊带上衣' '中裤' '短袖衬衫' '无袖上衣' '长袖衬衫']"
   ]
  },
  {
   "cell_type": "code",
   "execution_count": 24,
   "metadata": {
    "scrolled": false
   },
   "outputs": [],
   "source": [
    "# label_num_dict = {} # 类别数量 频次字典\n",
    "# imgpoint_0_num_dict = {}\n",
    "\n",
    "# for img_ann_folder_path in img_ann_folder_paths:\n",
    "#     vieopoint_0_num = 0 \n",
    "#     json_paths = glob.glob(img_ann_folder_path + '/*.json')\n",
    "#     for json_path in json_paths:\n",
    "#         with open(json_path, 'r') as f:\n",
    "#             img_ann = json.load(f)\n",
    "#         for ann in img_ann['annotations']:\n",
    "#             label = ann['label']\n",
    "#             if  ann['viewpoint'] == 0:\n",
    "#                 vieopoint_0_num+=1\n",
    "#             if label not in label_num_dict.keys():\n",
    "#                 label_num_dict[label] = 1\n",
    "#             else:\n",
    "#                 label_num_dict[label] += 1  \n",
    "#         if vieopoint_0_num not in vieopoint_0_num_dict.keys():\n",
    "#             vieopoint_0_num_dict[vieopoint_0_num] = 1\n",
    "#         else:\n",
    "#             vieopoint_0_num_dict[vieopoint_0_num] += 1   \n",
    "# fig = plt.figure(figsize=(14,5))\n",
    "\n",
    "# x1 = list(label_num_dict.keys())\n",
    "# y1 = list(label_num_dict.values())\n",
    "# plt.bar(range(len(x1)), y1)\n",
    "# for a, b in zip(list(range(len(x1))), y1):\n",
    "#     plt.text(a, b + 0.05, '%.0f' % b, ha='center', va='bottom', fontsize=10)\n",
    "# plt.xticks(list(range(len(x1))), x1, rotation=45)\n",
    "# plt.xlabel(\"图像库类别\")\n",
    "# plt.ylabel(\"频次\")\n",
    "# plt.show()"
   ]
  },
  {
   "cell_type": "code",
   "execution_count": 25,
   "metadata": {},
   "outputs": [],
   "source": [
    "# fig = plt.figure(figsize=(14,5))\n",
    "\n",
    "# x1 = list(vieopoint_0_num_dict.keys())\n",
    "# y1 = list(vieopoint_0_num_dict.values())\n",
    "# index = sorted(range(len(x1)), key=lambda k: x1[k])\n",
    "# x1 = np.array(x1)[index]\n",
    "# y1 = np.array(y1)[index]\n",
    "# plt.bar(range(len(x1)), y1)\n",
    "# for a, b in zip(list(range(len(x1))), y1):\n",
    "#     plt.text(a, b + 0.05, '%.0f' % b, ha='center', va='bottom', fontsize=10)\n",
    "# plt.xticks(list(range(len(x1))), x1, rotation=45)\n",
    "# plt.xlabel(\"图像库正面照数量分布\")\n",
    "# plt.ylabel(\"频次\")\n",
    "# plt.show()"
   ]
  },
  {
   "cell_type": "code",
   "execution_count": 16,
   "metadata": {},
   "outputs": [
    {
     "data": {
      "image/png": "[encoded data removed]",
      "text/plain": [
       "<Figure size 1008x360 with 1 Axes>"
      ]
     },
     "metadata": {
      "needs_background": "light"
     },
     "output_type": "display_data"
    }
   ],
   "source": [
    "label_num_dict = {} # 类别数量 频次字典\n",
    "videopoint_0_num_dict = {}\n",
    "\n",
    "for json_path in video_ann_paths[:]:\n",
    "    with open(json_path, 'r') as f:\n",
    "        v_ann = json.load(f)\n",
    "\n",
    "    for frame in v_ann['frames']:\n",
    "        for frame_ann in frame['annotations']:\n",
    "            label = frame_ann['label']\n",
    "\n",
    "        if label not in label_num_dict.keys():\n",
    "            label_num_dict[label] = 1\n",
    "        else:\n",
    "            label_num_dict[label] += 1  \n",
    "            \n",
    "fig = plt.figure(figsize=(14,5))\n",
    "\n",
    "x1 = np.array(list(label_num_dict.keys()))\n",
    "y1 = np.array(list(label_num_dict.values()))\n",
    "index = sorted(range(len(y1)), key=lambda k: y1[k])\n",
    "x1 = x1[index]\n",
    "y1 = y1[index]\n",
    "plt.bar(range(len(x1)), y1)\n",
    "for a, b in zip(list(range(len(x1))), y1):\n",
    "    plt.text(a, b + 0.05, '%.0f' % b, ha='center', va='bottom', fontsize=10)\n",
    "plt.xticks(list(range(len(x1))), x1, rotation=45)\n",
    "plt.xlabel(\"视频库类别\")\n",
    "plt.ylabel(\"频次\")\n",
    "plt.show()"
   ]
  },
  {
   "cell_type": "code",
   "execution_count": 17,
   "metadata": {},
   "outputs": [],
   "source": [
    "video_x1 = x1"
   ]
  },
  {
   "cell_type": "code",
   "execution_count": 18,
   "metadata": {},
   "outputs": [
    {
     "data": {
      "text/plain": [
       "array(['长马甲', '短马甲', '古装', '背心上衣', '吊带上衣', '背带裤', '短袖衬衫', '连体衣', '无袖上衣',\n",
       "       '中裤', '长袖衬衫', '中等半身裙'], dtype='<U5')"
      ]
     },
     "execution_count": 18,
     "metadata": {},
     "output_type": "execute_result"
    }
   ],
   "source": [
    "video_x1[:12]"
   ]
  },
  {
   "cell_type": "code",
   "execution_count": 19,
   "metadata": {},
   "outputs": [
    {
     "data": {
      "text/plain": [
       "array(['古风', '长马甲', '古装', '短马甲', '背心上衣', '背带裤', '连体衣', '吊带上衣', '中裤',\n",
       "       '短袖衬衫', '无袖上衣', '长袖衬衫'], dtype='<U5')"
      ]
     },
     "execution_count": 19,
     "metadata": {},
     "output_type": "execute_result"
    }
   ],
   "source": [
    "image_x1[:12]"
   ]
  },
  {
   "cell_type": "code",
   "execution_count": 18,
   "metadata": {},
   "outputs": [
    {
     "name": "stdout",
     "output_type": "stream",
     "text": [
      "在train image图像库里的商品总数：30000\n",
      "在train vide0视频库里的商品总数：30000\n"
     ]
    }
   ],
   "source": [
    "print('在train image图像库里的商品总数：%d' % len(img_folder_paths))\n",
    "print('在train vide0视频库里的商品总数：%d' % len(video_mp4_paths))"
   ]
  },
  {
   "cell_type": "markdown",
   "metadata": {},
   "source": [
    "### 2. 图像库图像数量频次图\n",
    "针对image文件夹内的jpg图片进行分析。"
   ]
  },
  {
   "cell_type": "code",
   "execution_count": 20,
   "metadata": {},
   "outputs": [
    {
     "data": {
      "image/png": "[encoded data removed]",
      "text/plain": [
       "<Figure size 432x216 with 1 Axes>"
      ]
     },
     "metadata": {
      "needs_background": "light"
     },
     "output_type": "display_data"
    }
   ],
   "source": [
    "all_img_num = 0 # 所有图像数\n",
    "img_num_dict = {} # 图像数量 频次字典\n",
    "\n",
    "for img_folder_path in img_folder_paths[:]:\n",
    "    img_num = len(glob.glob(img_folder_path + '/*.jpg'))\n",
    "    if img_num not in list(img_num_dict.keys()):\n",
    "        img_num_dict[img_num] = 1\n",
    "    else:\n",
    "        img_num_dict[img_num] += 1\n",
    "        \n",
    "    all_img_num = all_img_num + img_num\n",
    "\n",
    "fig = plt.figure(figsize=(6,3))\n",
    "x = list(img_num_dict.keys())\n",
    "y = list(img_num_dict.values())\n",
    "plt.bar(x, y)\n",
    "for a, b in zip(x, y):\n",
    "    plt.text(a, b + 0.05, '%.0f' % b, ha='center', va='bottom', fontsize=10)\n",
    "plt.xticks(x)\n",
    "plt.xlabel(\"图像库文件夹中图像数量\")\n",
    "plt.ylabel(\"频次\")\n",
    "plt.title('图像库所有图片数量：%d' % all_img_num)\n",
    "plt.show()"
   ]
  },
  {
   "cell_type": "markdown",
   "metadata": {},
   "source": [
    "大部分商品图像库文件夹中含有5/6张图片，而且，至少为2张图片。"
   ]
  },
  {
   "cell_type": "markdown",
   "metadata": {},
   "source": [
    "### 3. 图像库图像标注概况\n",
    "针对image_annotaion文件夹内的json标注文件进行分析。（图像库图片数 = 图像库图片标注数）"
   ]
  },
  {
   "cell_type": "code",
   "execution_count": 21,
   "metadata": {
    "scrolled": false
   },
   "outputs": [
    {
     "name": "stdout",
     "output_type": "stream",
     "text": [
      "dispaly错标数据: data/train_dataset_part3/image_annotation/001541/0.json\n"
     ]
    },
    {
     "data": {
      "image/png": "[encoded data removed]",
      "text/plain": [
       "<Figure size 1080x288 with 3 Axes>"
      ]
     },
     "metadata": {
      "needs_background": "light"
     },
     "output_type": "display_data"
    }
   ],
   "source": [
    "display_dict = {} # 商品库图展示方式 频次字典\n",
    "viewpoint_dict = {} # 商品库图片拍摄视角 频次字典\n",
    "ann_dict = {} # 一张图的标注数 频次字典\n",
    "\n",
    "for img_ann_folder_path in img_ann_folder_paths:\n",
    "    json_paths = glob.glob(img_ann_folder_path + '/*.json')\n",
    "    for json_path in json_paths:\n",
    "        with open(json_path, 'r') as f:\n",
    "            img_ann = json.load(f)\n",
    "        \n",
    "        for ann in img_ann['annotations']:\n",
    "            display = ann['display']\n",
    "            viewpoint = ann['viewpoint']\n",
    "            \n",
    "            # 更新display频次字典\n",
    "            if display not in list(display_dict.keys()):\n",
    "                display_dict[display] = 1\n",
    "            else:\n",
    "                display_dict[display] += 1\n",
    "            \n",
    "            # 更新viewpoint频次字典\n",
    "            if viewpoint not in list(viewpoint_dict.keys()):\n",
    "                viewpoint_dict[viewpoint] = 1\n",
    "            else:\n",
    "                viewpoint_dict[viewpoint] += 1  \n",
    "                \n",
    "            # 打印display异常信息\n",
    "            if int(display) > 1:\n",
    "                print(\"dispaly错标数据: \" + json_path)\n",
    "            # 打印viewpoint异常信息\n",
    "            if int(viewpoint) > 3:\n",
    "                print(\"viewpoint错标数据: \" + json_path)\n",
    "                \n",
    "        ann_num = len(img_ann['annotations'])\n",
    "\n",
    "        if ann_num not in list(ann_dict.keys()):\n",
    "            ann_dict[ann_num] = 1\n",
    "        else:\n",
    "            ann_dict[ann_num] += 1\n",
    "\n",
    "fig = plt.figure(figsize=(15,4))\n",
    "\n",
    "plt.subplot(1,3,1)\n",
    "x1 = list(ann_dict.keys())\n",
    "y1 = list(ann_dict.values())\n",
    "plt.bar(x1, y1)\n",
    "for a, b in zip(x1, y1):\n",
    "    plt.text(a, b + 0.05, '%.0f' % b, ha='center', va='bottom', fontsize=10)\n",
    "plt.xticks(x1)\n",
    "plt.xlabel(\"图像库标注json文件中‘annotations’长度\")\n",
    "plt.ylabel(\"频次\")\n",
    "\n",
    "plt.subplot(1,3,2)\n",
    "x2 = list(display_dict.keys())\n",
    "y2 = list(display_dict.values())\n",
    "plt.bar(x2, y2)\n",
    "for a, b in zip(x2, y2):\n",
    "    plt.text(a, b + 0.05, '%.0f' % b, ha='center', va='bottom', fontsize=10)\n",
    "plt.xticks(x2)\n",
    "plt.xlabel(\"图像库标注文件json文件中的'display'\")\n",
    "plt.ylabel(\"频次\")\n",
    "plt.title(\"展示方式字段display（0：纯商品展示，1：试穿展示）\")\n",
    "\n",
    "plt.subplot(1,3,3)\n",
    "x3 = list(viewpoint_dict.keys())\n",
    "y3 = list(viewpoint_dict.values())\n",
    "plt.bar(x3, y3)\n",
    "for a, b in zip(x3, y3):\n",
    "    plt.text(a, b + 0.05, '%.0f' % b, ha='center', va='bottom', fontsize=10)\n",
    "plt.xticks(x3)\n",
    "plt.xlabel(\"图像库标注文件json文件中的'viewpoint'\")\n",
    "plt.ylabel(\"频次\")\n",
    "plt.title(\"视角字段viewpoint（0：正面，1：背面，2：左侧， 3：右侧）\")\n",
    "\n",
    "plt.tight_layout()\n",
    "plt.show()"
   ]
  },
  {
   "cell_type": "markdown",
   "metadata": {},
   "source": [
    "（1）商品库中单张图像所对应的标注文件里至少都有1个标注。<br>\n",
    "（2）只有1张出现'display=2'(即侧面视角)的图片，为错标注数据。大部分都是试穿展示，然后再是纯商品展示。<br>\n",
    "（3）大部分图片为正面，其次是背面，最后是侧面。"
   ]
  },
  {
   "cell_type": "markdown",
   "metadata": {},
   "source": [
    "### 4. 图像库文本数据概况\n",
    "针对image_text文件夹内的txt文本文件进行分析。（图像库图片数 = 图像库文本标注数）"
   ]
  },
  {
   "cell_type": "code",
   "execution_count": 22,
   "metadata": {},
   "outputs": [
    {
     "data": {
      "image/png": "[encoded data removed]",
      "text/plain": [
       "<Figure size 864x216 with 2 Axes>"
      ]
     },
     "metadata": {
      "needs_background": "light"
     },
     "output_type": "display_data"
    }
   ],
   "source": [
    "txt_dict = {'1':0, '0':0} # 文本存在与否 频次字典\n",
    "txt_len_list = [] # 文本长度 列表\n",
    "\n",
    "for txt_path in img_txt_paths:\n",
    "    with open(txt_path, 'r') as f:\n",
    "        txt = f.read()\n",
    "    txt = txt.strip() # 去空格\n",
    "    \n",
    "    if len(txt) != 0:\n",
    "        txt_dict['1'] += 1\n",
    "        txt_len_list.append(len(txt))\n",
    "    else:\n",
    "        txt_dict['0'] += 1\n",
    "\n",
    "fig = plt.figure(figsize=(12,3))\n",
    "\n",
    "plt.subplot(1,2,1)\n",
    "x1 = list(txt_dict.keys())\n",
    "y1 = list(txt_dict.values())\n",
    "plt.bar(x1, y1)\n",
    "for a, b in zip(x1, y1):\n",
    "    plt.text(a, b + 0.05, '%.0f' % b, ha='center', va='bottom', fontsize=10)\n",
    "plt.xticks([0,1], ['有文本','无文本'])\n",
    "plt.ylabel('频次')\n",
    "\n",
    "plt.subplot(1,2,2)\n",
    "plt.hist(txt_len_list, align='mid')\n",
    "plt.xlabel(\"文本长度\")\n",
    "plt.ylabel('频次')\n",
    "\n",
    "plt.tight_layout()\n",
    "plt.show()"
   ]
  },
  {
   "cell_type": "markdown",
   "metadata": {},
   "source": [
    "（1）所有商品库图片都有文本描述。<br>\n",
    "（2）大部分文本描述长度在30个字左右。"
   ]
  },
  {
   "cell_type": "markdown",
   "metadata": {},
   "source": [
    "### 5. 视频库视频标注概况\n",
    "针对video_annotaion文件夹内的json标注文件进行分析。（视频库视频数 = 视频库视频标注数）"
   ]
  },
  {
   "cell_type": "code",
   "execution_count": 23,
   "metadata": {},
   "outputs": [
    {
     "data": {
      "image/png": "[encoded data removed]",
      "text/plain": [
       "<Figure size 1152x720 with 4 Axes>"
      ]
     },
     "metadata": {
      "needs_background": "light"
     },
     "output_type": "display_data"
    }
   ],
   "source": [
    "# video_ann_paths = glob.glob(video_ann_path + '*.json')\n",
    "\n",
    "video_frame_num_dict = {} # 单个视频帧数 频次字典\n",
    "video_ann_num_dict = {} # 单个视频帧下标注数量 频次字典\n",
    "video_display_dict = {} # 视频标注中‘display’ 频次字典\n",
    "video_viewpoint_dict = {} # 视频标注中‘viewpoint’ 频次字典\n",
    "\n",
    "for v_ann_path in video_ann_paths:\n",
    "    with open(v_ann_path, 'r') as f:\n",
    "        v_ann = json.load(f)\n",
    "    \n",
    "    frame_num = len(v_ann['frames'])\n",
    "    if frame_num not in list(video_frame_num_dict.keys()):\n",
    "        video_frame_num_dict[frame_num] = 1\n",
    "    else:\n",
    "        video_frame_num_dict[frame_num] += 1\n",
    "        \n",
    "    for frame in v_ann['frames']:\n",
    "        video_ann_num = len(frame[\"annotations\"])\n",
    "        \n",
    "        if video_ann_num not in list(video_ann_num_dict.keys()):\n",
    "            video_ann_num_dict[video_ann_num] = 1\n",
    "        else:\n",
    "            video_ann_num_dict[video_ann_num] += 1\n",
    "        \n",
    "        for frame_ann in frame['annotations']:\n",
    "            frame_display = frame_ann['display']\n",
    "            frame_viewpoint = frame_ann['viewpoint']\n",
    "        \n",
    "        # 更新display频次字典\n",
    "        if frame_display not in list(video_display_dict.keys()):\n",
    "            video_display_dict[frame_display] = 1\n",
    "        else:\n",
    "            video_display_dict[frame_display] += 1\n",
    "\n",
    "        # 更新viewpoint频次字典\n",
    "        if frame_viewpoint not in list(video_viewpoint_dict.keys()):\n",
    "            video_viewpoint_dict[frame_viewpoint] = 1\n",
    "        else:\n",
    "            video_viewpoint_dict[frame_viewpoint] += 1  \n",
    "\n",
    "fig = plt.figure(figsize=(16,10))\n",
    "\n",
    "plt.subplot(2,2,1)\n",
    "x1 = list(video_frame_num_dict.keys())\n",
    "y1 = list(video_frame_num_dict.values())\n",
    "plt.bar(x1, y1)\n",
    "for a, b in zip(x1, y1):\n",
    "    plt.text(a, b + 0.05, '%.0f' % b, ha='center', va='bottom', fontsize=10)\n",
    "plt.xticks(x1)\n",
    "plt.xlabel(\"单个视频切片帧数\")\n",
    "plt.ylabel(\"频次\")\n",
    "\n",
    "plt.subplot(2,2,2)\n",
    "x2 = list(video_ann_num_dict.keys())\n",
    "y2 = list(video_ann_num_dict.values())\n",
    "plt.bar(x2, y2)\n",
    "for a, b in zip(x2, y2):\n",
    "    plt.text(a, b + 0.05, '%.0f' % b, ha='center', va='bottom', fontsize=10)\n",
    "plt.xticks(x2)\n",
    "plt.xlabel(\"单个视频切片下‘anntations’的长度\")\n",
    "plt.ylabel(\"频次\")\n",
    "\n",
    "plt.subplot(2,2,3)\n",
    "x3 = list(video_display_dict.keys())\n",
    "y3 = list(video_display_dict.values())\n",
    "plt.bar(x3, y3)\n",
    "for a, b in zip(x3, y3):\n",
    "    plt.text(a, b + 0.05, '%.0f' % b, ha='center', va='bottom', fontsize=10)\n",
    "plt.xticks(x3)\n",
    "plt.xlabel(\"视频标注中的‘display‘\")\n",
    "plt.ylabel(\"频次\")\n",
    "plt.title(\"展示方式字段display（0：纯商品展示，1：试穿展示）\")\n",
    "\n",
    "plt.subplot(2,2,4)\n",
    "x4 = list(video_viewpoint_dict.keys())\n",
    "y4 = list(video_viewpoint_dict.values())\n",
    "plt.bar(x4, y4)\n",
    "for a, b in zip(x4, y4):\n",
    "    plt.text(a, b + 0.05, '%.0f' % b, ha='center', va='bottom', fontsize=10)\n",
    "plt.xticks(x4)\n",
    "plt.xlabel(\"视频库标注文件json文件中的'viewpoint'\")\n",
    "plt.ylabel(\"频次\")\n",
    "plt.title(\"视角字段viewpoint（0：正面，1：背面，2：左侧， 3：右侧）\")\n",
    "\n",
    "plt.tight_layout()\n",
    "plt.show()"
   ]
  },
  {
   "cell_type": "markdown",
   "metadata": {},
   "source": [
    "（1）所有mp4视频下，都保证有10个视频切片帧数（即单个视频都有10个frame）。<br>\n",
    "（2）大部分单个视频切片下有1/2个标注（即1/2个bboxes），但也有’没有标注‘和‘很多标注’的情况。<br>\n",
    "（3）大部分视频切片下的图示属于试穿展示。<br>\n",
    "（4）大部分视频切片是正面。"
   ]
  },
  {
   "cell_type": "markdown",
   "metadata": {},
   "source": [
    "### 6. 视频库文本数据概况\n",
    "针对video_text文件夹内的txt文本文件进行分析。（视频库视频数 = 视频库文本标注数）"
   ]
  },
  {
   "cell_type": "code",
   "execution_count": 24,
   "metadata": {},
   "outputs": [
    {
     "data": {
      "image/png": "[encoded data removed]",
      "text/plain": [
       "<Figure size 864x216 with 2 Axes>"
      ]
     },
     "metadata": {
      "needs_background": "light"
     },
     "output_type": "display_data"
    }
   ],
   "source": [
    "v_txt_dict = {'1':0, '0':0} # 文本存在与否 频次字典\n",
    "v_txt_len_list = [] # 文本长度 列表\n",
    "\n",
    "for video_txt_path in video_txt_paths:\n",
    "    with open(video_txt_path, 'r') as f:\n",
    "        txt = f.read()\n",
    "    txt = txt.strip() # 去空格\n",
    "    \n",
    "    if len(txt) != 0:\n",
    "        v_txt_dict['1'] += 1\n",
    "        v_txt_len_list.append(len(txt))\n",
    "    else:\n",
    "        v_txt_dict['0'] += 1\n",
    "\n",
    "fig = plt.figure(figsize=(12,3))\n",
    "\n",
    "plt.subplot(1,2,1)\n",
    "x1 = list(v_txt_dict.keys())\n",
    "y1 = list(v_txt_dict.values())\n",
    "plt.bar(x1, y1)\n",
    "for a, b in zip(x1, y1):\n",
    "    plt.text(a, b + 0.05, '%.0f' % b, ha='center', va='bottom', fontsize=10)\n",
    "plt.xticks([0,1], ['有文本','无文本'])\n",
    "plt.ylabel('频次')\n",
    "\n",
    "plt.subplot(1,2,2)\n",
    "plt.hist(v_txt_len_list, align='mid')\n",
    "plt.xlabel(\"文本长度\")\n",
    "plt.ylabel('频次')\n",
    "\n",
    "plt.tight_layout()\n",
    "plt.show()"
   ]
  },
  {
   "cell_type": "markdown",
   "metadata": {},
   "source": [
    "（1）单个视频只有一个视频标注，即单个视频中的10个视频切片都共享一个文本。<br>\n",
    "（2）视频都不一定有文本描述。<br>\n",
    "（3）大部分文本描述长度在100个字左右，比图像库的文本描述长。"
   ]
  },
  {
   "cell_type": "markdown",
   "metadata": {},
   "source": [
    "### 7. 其它\n",
    "下列问题均为团队内对数据提出的一些疑问。\n",
    "#### 问题1：是否视频库中出现的衣服，商品图像库都有？同样地，是否图像库中的衣服都能匹配到视频库中的衣服？\n",
    "由于官方说明：“商品图和视频帧中标注了大于0的相同instance_id的检测框为同一件商品，具有对应关系，instance_id为0表示不具有匹配关系”。因此，可以观察video_annotation中是否出现“frames”-\"annotations\"-\"instance_id\"有等于0的情况，回答该问题。若有不匹配，则说明视频库中的衣服无法匹配到商品图像库中。"
   ]
  },
  {
   "cell_type": "code",
   "execution_count": 28,
   "metadata": {
    "scrolled": true
   },
   "outputs": [
    {
     "name": "stdout",
     "output_type": "stream",
     "text": [
      "视频库中出现的衣服不一定在商品图像库中都有。\n",
      "图片库中出现的衣服不一定在视频库中都有。\n"
     ]
    }
   ],
   "source": [
    "v_instance_list = [] # 记录所有视频标注里的“instance_id”\n",
    "img_instance_list = [] # 记录所有图片标注里的“instance_id”\n",
    "\n",
    "for v_ann_path in video_ann_paths:\n",
    "    with open(v_ann_path, 'r') as f:\n",
    "        v_ann = json.load(f)\n",
    "    \n",
    "    for frame in v_ann['frames']:\n",
    "        for frame_ann in frame['annotations']:\n",
    "            v_instance_list.append(frame_ann['instance_id'])\n",
    "            \n",
    "for img_ann_folder_path in img_ann_folder_paths:\n",
    "    json_paths = glob.glob(img_ann_folder_path + '/*.json')\n",
    "    for json_path in json_paths:\n",
    "        with open(json_path, 'r') as f:\n",
    "            img_ann = json.load(f)\n",
    "\n",
    "        for ann in img_ann['annotations']:\n",
    "            img_instance_list.append(ann['instance_id'])\n",
    "            \n",
    "v2i_unmatch_num = 0\n",
    "i2v_unmatch_num = 0\n",
    "\n",
    "for i in set(v_instance_list):\n",
    "    if i not in set(img_instance_list):\n",
    "        v2i_unmatch_num += 1\n",
    "        break\n",
    "        \n",
    "for i in set(img_instance_list):\n",
    "    if i not in set(v_instance_list):\n",
    "        i2v_unmatch_num += 1\n",
    "        break\n",
    "        \n",
    "if v2i_unmatch_num != 0:\n",
    "    print(\"视频库中出现的衣服不一定在商品图像库中都有。\")\n",
    "else:\n",
    "    print(\"视频库中出现的衣服都可以在商品图像库中匹配到\")\n",
    "    \n",
    "if i2v_unmatch_num != 0:\n",
    "    print(\"图片库中出现的衣服不一定在视频库中都有。\")\n",
    "else:\n",
    "    print(\"图片库中出现的衣服都可以在商品视频库中匹配到\")         "
   ]
  },
  {
   "cell_type": "markdown",
   "metadata": {},
   "source": [
    "#### 问题2：视频库和图像库中都分别出现哪些商品类别？\n",
    "官方说明是23个商品大类。针对video_annotation和image_annotation中\"annotations\"-\"labels\"获取集合便可以得到。\n",
    "官方后续将古风和古装何为一类"
   ]
  },
  {
   "cell_type": "code",
   "execution_count": 30,
   "metadata": {},
   "outputs": [
    {
     "name": "stdout",
     "output_type": "stream",
     "text": [
      "出现的商品类别：\n",
      "--------------------------------------------------\n",
      "视频库(23个)： ['背心上衣', '中等半身裙', '短外套', '长裤', '短袖衬衫', '连体衣', '长外套', '短马甲', '长袖上衣', '短袖上衣', '长半身裙', '吊带上衣', '无袖上衣', '短裤', '无袖连衣裙', '短裙', '古装', '短袖连衣裙', '长袖连衣裙', '背带裤', '长袖衬衫', '中裤', '长马甲']\n",
      "--------------------------------------------------\n",
      "图像库(24个)： ['背心上衣', '中等半身裙', '短外套', '长裤', '短袖衬衫', '连体衣', '长外套', '短马甲', '长袖上衣', '短袖上衣', '吊带上衣', '长半身裙', '无袖上衣', '短裤', '无袖连衣裙', '短裙', '古装', '短袖连衣裙', '长袖连衣裙', '背带裤', '长袖衬衫', '古风', '中裤', '长马甲']\n",
      "--------------------------------------------------\n",
      "缺省的是： 古风\n"
     ]
    }
   ],
   "source": [
    "# video_ann_paths = glob.glob(video_ann_path + '*.json')\n",
    "# img_ann_folder_paths = glob.glob(img_ann_path + '*')\n",
    "\n",
    "v_label_list = [] # 记录所有视频标注里的“label”\n",
    "img_label_list = [] # 记录所有图片标注里的“label”\n",
    "\n",
    "for v_ann_path in video_ann_paths:\n",
    "    with open(v_ann_path, 'r') as f:\n",
    "        v_ann = json.load(f)\n",
    "    \n",
    "    for frame in v_ann['frames']:\n",
    "        for frame_ann in frame['annotations']:\n",
    "            v_label_list.append(frame_ann['label'])\n",
    "            \n",
    "for img_ann_folder_path in img_ann_folder_paths:\n",
    "    json_paths = glob.glob(img_ann_folder_path + '/*.json')\n",
    "    for json_path in json_paths:\n",
    "        with open(json_path, 'r') as f:\n",
    "            img_ann = json.load(f)\n",
    "\n",
    "        for ann in img_ann['annotations']:\n",
    "            img_label_list.append(ann['label'])\n",
    "            \n",
    "print(\"出现的商品类别：\")\n",
    "print('-'*50)\n",
    "print(\"视频库(%d个)：\"%len(set(v_label_list)), list(set(v_label_list)))\n",
    "print('-'*50)\n",
    "print(\"图像库(%d个)：\"%len(set(img_label_list)),list(set(img_label_list)))\n",
    "for i in set(img_label_list):\n",
    "    if i not in v_label_list:\n",
    "        print('-'*50)\n",
    "        print('缺省的是：', i)\n",
    "        break"
   ]
  },
  {
   "cell_type": "markdown",
   "metadata": {},
   "source": [
    "#### 问题3：若单个商品图像文件夹中出现多个商品标注，它们都能匹配吗？\n",
    "在’EDA‘-’2. 图像库图像标注概况‘下，我们已经发现单个图片的标注数为0-2之间。但是还想知道’如果单个图像有多个标注，是否都可以与视频匹配上？‘还是说每张图只有一个标注是能匹配的，多余的标注都是’instance_id‘=0，不能匹配上的。"
   ]
  },
  {
   "cell_type": "code",
   "execution_count": 13,
   "metadata": {
    "scrolled": false
   },
   "outputs": [],
   "source": [
    "# img_ann_folder_paths = glob.glob(img_ann_path + '*')\n",
    "\n",
    "# print(\"单个图像文件夹下出现’多个instance_id‘的情况：\")\n",
    "# for img_ann_folder_path in img_ann_folder_paths:\n",
    "#     instance_id_list = [] # 记录单个图像文件夹下所有的'instance_id'\n",
    "    \n",
    "#     json_paths = glob.glob(img_ann_folder_path + '/*.json')\n",
    "#     for json_path in json_paths:\n",
    "#         with open(json_path, 'r') as f:\n",
    "#             img_ann = json.load(f)\n",
    "    \n",
    "    \n",
    "#         ann_num = len(img_ann['annotations'])    \n",
    "#         for ann in img_ann['annotations']:\n",
    "#             instance_id_list.append(ann['instance_id'])\n",
    "    \n",
    "#     if len(set(instance_id_list)) > 1:\n",
    "#        print(set(instance_id_list))\n",
    "\n",
    "# print('-'*50)\n",
    "# print(\"单个图像文件夹下出现’一个instance_id‘的情况：\")\n",
    "# for img_ann_folder_path in img_ann_folder_paths:\n",
    "#     instance_id_list = [] # 记录单个图像文件夹下所有的'instance_id'\n",
    "    \n",
    "#     json_paths = glob.glob(img_ann_folder_path + '/*.json')\n",
    "#     for json_path in json_paths:\n",
    "#         with open(json_path, 'r') as f:\n",
    "#             img_ann = json.load(f)\n",
    "    \n",
    "    \n",
    "#         ann_num = len(img_ann['annotations'])    \n",
    "#         for ann in img_ann['annotations']:\n",
    "#             instance_id_list.append(ann['instance_id'])\n",
    "    \n",
    "#     if len(set(instance_id_list)) <= 1:\n",
    "#         print(set(instance_id_list))"
   ]
  },
  {
   "cell_type": "markdown",
   "metadata": {},
   "source": [
    "（1）如果查看000013图像文件夹下的图片，便可知道‘20001301’和‘20001302’其实是个衣服套装。由上面可得‘instance_id’的命名规则：<br>\n",
    "2 + < item_id > + <选择><br>\n",
    "若某商品有两种选择，一条裤子，一件衣服，则对于可以标号上述‘<选择>’为‘01’和‘02’。<br>\n",
    "（2）商品图像文件夹正常都是展示统一件商品，如果存在两个标注，要么是不相干的商品（无法被匹配的，‘instance_id’=0），要么是不同款式选择的情况。"
   ]
  },
  {
   "cell_type": "markdown",
   "metadata": {},
   "source": [
    "#### 问题4：若单个商品视频切片中出现多个商品标注，它们都能匹配吗？\n",
    "在’EDA‘-’4. 视频库视频标注概况‘下，我们已经发现有’单个视频切片的标注有3-6个‘的情况。但是还想知道’如果单个视频切片中有多个标注，是否都可以与图像库匹配上？‘还是说单个视频切片只有一个标注是能匹配的，多余的标注都是’instance_id‘=0，不能匹配上的。"
   ]
  },
  {
   "cell_type": "code",
   "execution_count": 14,
   "metadata": {
    "scrolled": false
   },
   "outputs": [],
   "source": [
    "# video_ann_paths = glob.glob(video_ann_path + '*.json')\n",
    "\n",
    "for v_ann_path in video_ann_paths:\n",
    "    with open(v_ann_path, 'r') as f:\n",
    "        v_ann = json.load(f)\n",
    "    \n",
    "    instance_id_list_all = [] # 记录单个视频下所有json离得的'instance_id'\n",
    "    for frame in v_ann['frames']:\n",
    "        instance_id_list = [] # 记录单个视频切片下所有的'instance_id'\n",
    "        for ann in frame['annotations']:\n",
    "            instance_id_list.append(ann['instance_id'])\n",
    "            instance_id_list_all.append(ann['instance_id'])\n",
    "\n",
    "# #如果想查看frame-level和video-level下商品标注的'instance_id'的情况，可以分别解除下面的注释并运行\n",
    "\n",
    "#         # 打印出单个视频切片中存在多个商品标注的'instance_id'\n",
    "#         if len(set(instance_id_list))>1:\n",
    "#             print(set(instance_id_list))    \n",
    "    \n",
    "#     # 打印出单个视频中存在多个商品标注的'instance_id'\n",
    "#     if len(set(instance_id_list_all))>1:\n",
    "#         print(set(instance_id_list_all))   "
   ]
  },
  {
   "cell_type": "markdown",
   "metadata": {},
   "source": [
    "（1）在单个视频（即video-level）下，只存在展示一种商品，但中间可能会有不相干的商品，不过不相干商品都无法匹配到商品库，因为其instance_id=0。而有时也会出现同一个视频中出现一种商品但有不同款式选择的情况，例如一件套装商品含有（裤子和衣服）。<br>\n",
    "（2）在单个视频切片下（即frame_level）下，跟上面是一样的情况。\n",
    "\n",
    "例子：在Live_demo_20200117/video_annotation/000001.json下，如果你看‘frame_index'=0的标注，你会看到有两个annotation，即第1秒视频开头的直播切片存在两个标注，一个是'长裤'，一个是'长款外套'。但这只有'长款外套'是可以匹配到商品图像库的，’长裤‘无法匹配到，因为其'instance_id'=0。"
   ]
  },
  {
   "cell_type": "markdown",
   "metadata": {},
   "source": [
    "#### 问题5：视频是否都为一个人？如果有两个人，两个人是否都为一套衣服？或者不相干人的衣服会不会有标注显示？"
   ]
  },
  {
   "cell_type": "markdown",
   "metadata": {},
   "source": [
    "在单个视频（即video-level）下，只存在展示一种商品，但中间可能会有不相干的商品，不过不相干商品都无法匹配到商品库，因为其instance_id=0。而有时也会出现同一个视频中出现套装搭配（例如裤子和衣服）。"
   ]
  }
 ],
 "metadata": {
  "kernelspec": {
   "display_name": "Python 3",
   "language": "python",
   "name": "python3"
  },
  "language_info": {
   "codemirror_mode": {
    "name": "ipython",
    "version": 3
   },
   "file_extension": ".py",
   "mimetype": "text/x-python",
   "name": "python",
   "nbconvert_exporter": "python",
   "pygments_lexer": "ipython3",
   "version": "3.7.3"
  }
 },
 "nbformat": 4,
 "nbformat_minor": 2
}
